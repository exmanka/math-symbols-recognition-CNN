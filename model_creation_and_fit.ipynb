{
 "cells": [
  {
   "cell_type": "markdown",
   "id": "171beb73",
   "metadata": {},
   "source": [
    "## Libraries import"
   ]
  },
  {
   "cell_type": "code",
   "execution_count": 2,
   "id": "41499321",
   "metadata": {},
   "outputs": [],
   "source": [
    "from tensorflow import keras\n",
    "from tensorflow.keras.layers import Dense, Flatten, Conv2D, MaxPooling2D\n",
    "import numpy as np\n",
    "import matplotlib.pyplot as plt\n",
    "import cv2\n",
    "import random\n",
    "import os\n",
    "\n",
    "# hiding tensorflow warnings\n",
    "os.environ['TF_CPP_MIN_LOG_LEVEL'] = '2'"
   ]
  },
  {
   "cell_type": "markdown",
   "id": "5366a554",
   "metadata": {},
   "source": [
    "## Dataset import"
   ]
  },
  {
   "cell_type": "code",
   "execution_count": 3,
   "id": "e09974f2",
   "metadata": {
    "scrolled": true
   },
   "outputs": [],
   "source": [
    "DATADIR = \"/media/storage/datasets/math_symbols\"\n",
    "training_data = []\n",
    "count_categories_elements = []\n",
    "test_data = []\n",
    "\n",
    "def create_training_data():\n",
    "    categories = os.listdir(DATADIR)\n",
    "    for category in categories:\n",
    "        print(category)\n",
    "        path = os.path.join(DATADIR, category)\n",
    "        class_num = categories.index(category)\n",
    "        count_categories_elements.append(0)\n",
    "        for img in os.listdir(path):\n",
    "            try:\n",
    "                img_array = cv2.imread(os.path.join(path, img), cv2.IMREAD_GRAYSCALE)\n",
    "                training_data.append([img_array, class_num])\n",
    "                count_categories_elements[class_num] += 1\n",
    "            except Exception as e:\n",
    "                print(\"Ошибка считывания изображения: \", img)\n",
    "\n",
    "def create_test_data():\n",
    "    shift = 0\n",
    "    for amount in count_categories_elements:\n",
    "        for i in range(shift, shift + round(amount * 0.1)):\n",
    "            test_data.append([training_data[i][0], training_data[i][1]])\n",
    "        del training_data[shift: shift + round(amount * 0.1)]\n",
    "        shift += amount - round(amount * 0.1)"
   ]
  },
  {
   "cell_type": "code",
   "execution_count": 4,
   "id": "e34487e7",
   "metadata": {
    "scrolled": true
   },
   "outputs": [
    {
     "name": "stdout",
     "output_type": "stream",
     "text": [
      "00.-\n",
      "01.!\n",
      "02.(\n",
      "03.)\n",
      "04.,\n",
      "05.[\n",
      "06.]\n",
      "07.{\n",
      "08.}\n",
      "09.+\n",
      "10.=\n",
      "11.0\n",
      "12.1\n",
      "13.2\n",
      "14.3\n",
      "16.5\n",
      "17.6\n",
      "18.7\n",
      "19.8\n",
      "20.9\n",
      "21.A\n",
      "22.alpha\n",
      "23.ascii_124\n",
      "24.b\n",
      "25.beta\n",
      "26.C\n",
      "27.cos\n",
      "28.d\n",
      "29.Delta\n",
      "30.div\n",
      "32.exists\n",
      "33.f\n",
      "34.forall\n",
      "35.forward_slash\n",
      "36.G\n",
      "37.gamma\n",
      "38.geq\n",
      "39.gt\n",
      "40.H\n",
      "41.i\n",
      "42.in\n",
      "43.infty\n",
      "44.int\n",
      "45.j\n",
      "47.l\n",
      "48.lambda\n",
      "49.ldots\n",
      "50.leq\n",
      "51.lim\n",
      "52.log\n",
      "53.lt\n",
      "54.M\n",
      "55.mu\n",
      "56.N\n",
      "57.neq\n",
      "58.o\n",
      "59.p\n",
      "60.phi\n",
      "61.pi\n",
      "62.pm\n",
      "63.prime\n",
      "65.R\n",
      "66.rightarrow\n",
      "67.S\n",
      "68.sigma\n",
      "69.sin\n",
      "70.sqrt\n",
      "71.sum\n",
      "72.T\n",
      "73.tan\n",
      "74.theta\n",
      "75.times\n",
      "76.u\n",
      "77.v\n",
      "78.w\n",
      "79.X\n",
      "80.y\n",
      "81.z\n",
      "15.4\n",
      "31.e\n",
      "46.k\n",
      "64.q\n"
     ]
    }
   ],
   "source": [
    "create_training_data()\n",
    "create_test_data()"
   ]
  },
  {
   "cell_type": "markdown",
   "id": "ec3518b6",
   "metadata": {},
   "source": [
    "## Data shuffle"
   ]
  },
  {
   "cell_type": "code",
   "execution_count": 5,
   "id": "5ba0dc18",
   "metadata": {},
   "outputs": [],
   "source": [
    "random.shuffle(training_data)\n",
    "random.shuffle(test_data)"
   ]
  },
  {
   "cell_type": "markdown",
   "id": "f17ce6b0",
   "metadata": {},
   "source": [
    "## Train/test split"
   ]
  },
  {
   "cell_type": "code",
   "execution_count": 6,
   "id": "151b7190",
   "metadata": {},
   "outputs": [],
   "source": [
    "x_train = []\n",
    "y_train = []\n",
    "x_test = []\n",
    "y_test = []\n",
    "\n",
    "for inp, answ in training_data:\n",
    "    x_train.append(inp)\n",
    "    y_train.append(answ)\n",
    "    \n",
    "for inp, answ in test_data:\n",
    "    x_test.append(inp)\n",
    "    y_test.append(answ)"
   ]
  },
  {
   "cell_type": "markdown",
   "id": "0eda57fa",
   "metadata": {},
   "source": [
    "## Data prepocessing"
   ]
  },
  {
   "cell_type": "code",
   "execution_count": 7,
   "id": "f13134a9",
   "metadata": {},
   "outputs": [
    {
     "name": "stdout",
     "output_type": "stream",
     "text": [
      "(338375, 45, 45, 1)\n"
     ]
    }
   ],
   "source": [
    "x_train = np.array(x_train).reshape(-1, 45, 45, 1)\n",
    "x_test = np.array(x_test).reshape(-1, 45, 45, 1)\n",
    "print(x_train.shape)\n",
    "\n",
    "x_train = x_train / 255.0\n",
    "x_test = x_test / 255.0\n",
    "\n",
    "y_train = keras.utils.to_categorical(np.array(y_train))\n",
    "y_test = keras.utils.to_categorical(np.array(y_test))"
   ]
  },
  {
   "cell_type": "markdown",
   "id": "5518746d",
   "metadata": {},
   "source": [
    "## Checking data is valid"
   ]
  },
  {
   "cell_type": "code",
   "execution_count": 8,
   "id": "286eef61",
   "metadata": {},
   "outputs": [
    {
     "data": {
      "image/png": "[encoded data removed]",
      "text/plain": [
       "<Figure size 640x480 with 1 Axes>"
      ]
     },
     "metadata": {},
     "output_type": "display_data"
    }
   ],
   "source": [
    "plt.imshow(x_train[1], cmap='gray')\n",
    "plt.show()"
   ]
  },
  {
   "cell_type": "markdown",
   "id": "466fe4b4",
   "metadata": {},
   "source": [
    "## Model creation"
   ]
  },
  {
   "cell_type": "code",
   "execution_count": 10,
   "id": "eac3914f",
   "metadata": {
    "scrolled": true
   },
   "outputs": [],
   "source": [
    "model = keras.Sequential([\n",
    "    Conv2D(32, (3, 3), padding='same', activation='relu', input_shape=x_train.shape[1:]),\n",
    "    MaxPooling2D((2, 2), strides=2),\n",
    "    Conv2D(64, (3, 3), padding='same', activation='relu'),\n",
    "    MaxPooling2D((2, 2), strides=2),\n",
    "    Conv2D(128, (3, 3), padding='same', activation='relu'),\n",
    "    MaxPooling2D((2, 2), strides=2),\n",
    "    Conv2D(256, (3, 3), padding='same', activation='relu'),\n",
    "    Flatten(),\n",
    "    Dense(256, activation='relu'),\n",
    "    Dense(82, activation='softmax')\n",
    "])\n",
    "\n",
    "setSGD = keras.optimizers.legacy.SGD(momentum=0.1, nesterov=True)\n",
    "\n",
    "model.compile(optimizer=setSGD,\n",
    "             loss='categorical_crossentropy',\n",
    "             metrics=['accuracy'])"
   ]
  },
  {
   "cell_type": "markdown",
   "id": "3c9f4bc9",
   "metadata": {},
   "source": [
    "## Model training"
   ]
  },
  {
   "cell_type": "code",
   "execution_count": 11,
   "id": "8ee3dac9",
   "metadata": {},
   "outputs": [
    {
     "name": "stderr",
     "output_type": "stream",
     "text": [
      "2023-12-02 21:40:57.161956: W tensorflow/tsl/framework/cpu_allocator_impl.cc:83] Allocation of 2192670000 exceeds 10% of free system memory.\n",
      "2023-12-02 21:40:58.707177: W tensorflow/tsl/framework/cpu_allocator_impl.cc:83] Allocation of 2192670000 exceeds 10% of free system memory.\n"
     ]
    },
    {
     "name": "stdout",
     "output_type": "stream",
     "text": [
      "Epoch 1/8\n"
     ]
    },
    {
     "name": "stderr",
     "output_type": "stream",
     "text": [
      "2023-12-02 21:41:00.451697: I tensorflow/compiler/xla/stream_executor/cuda/cuda_dnn.cc:424] Loaded cuDNN version 8600\n",
      "2023-12-02 21:41:01.011199: I tensorflow/compiler/xla/stream_executor/cuda/cuda_blas.cc:637] TensorFloat-32 will be used for the matrix multiplication. This will only be logged once.\n"
     ]
    },
    {
     "name": "stdout",
     "output_type": "stream",
     "text": [
      "8460/8460 [==============================] - 40s 4ms/step - loss: 0.9525 - accuracy: 0.7574 - val_loss: 0.2754 - val_accuracy: 0.9222\n",
      "Epoch 2/8\n",
      "8460/8460 [==============================] - 36s 4ms/step - loss: 0.2231 - accuracy: 0.9339 - val_loss: 0.1895 - val_accuracy: 0.9420\n",
      "Epoch 3/8\n",
      "8460/8460 [==============================] - 36s 4ms/step - loss: 0.1523 - accuracy: 0.9532 - val_loss: 0.1428 - val_accuracy: 0.9563\n",
      "Epoch 4/8\n",
      "8460/8460 [==============================] - 39s 5ms/step - loss: 0.1165 - accuracy: 0.9632 - val_loss: 0.1145 - val_accuracy: 0.9643\n",
      "Epoch 5/8\n",
      "8460/8460 [==============================] - 38s 5ms/step - loss: 0.0937 - accuracy: 0.9701 - val_loss: 0.1023 - val_accuracy: 0.9665\n",
      "Epoch 6/8\n",
      "8460/8460 [==============================] - 38s 4ms/step - loss: 0.0800 - accuracy: 0.9742 - val_loss: 0.0893 - val_accuracy: 0.9724\n",
      "Epoch 7/8\n",
      "8460/8460 [==============================] - 38s 4ms/step - loss: 0.0690 - accuracy: 0.9774 - val_loss: 0.0987 - val_accuracy: 0.9697\n",
      "Epoch 8/8\n",
      "8460/8460 [==============================] - 38s 5ms/step - loss: 0.0612 - accuracy: 0.9801 - val_loss: 0.0767 - val_accuracy: 0.9761\n"
     ]
    }
   ],
   "source": [
    "his = model.fit(x_train, y_train, batch_size=32, epochs=8, validation_split=0.2)"
   ]
  },
  {
   "cell_type": "code",
   "execution_count": 12,
   "id": "9f864e26",
   "metadata": {},
   "outputs": [
    {
     "data": {
      "image/png": "[encoded data removed]",
      "text/plain": [
       "<Figure size 640x480 with 1 Axes>"
      ]
     },
     "metadata": {},
     "output_type": "display_data"
    }
   ],
   "source": [
    "plt.plot(his.history['loss'])\n",
    "plt.plot(his.history['val_loss'])\n",
    "plt.show()"
   ]
  },
  {
   "cell_type": "markdown",
   "id": "b3e6b986",
   "metadata": {},
   "source": [
    "## Model evaluation"
   ]
  },
  {
   "cell_type": "code",
   "execution_count": 13,
   "id": "00a6adfb",
   "metadata": {},
   "outputs": [
    {
     "name": "stdout",
     "output_type": "stream",
     "text": [
      "1175/1175 [==============================] - 3s 2ms/step - loss: 0.0683 - accuracy: 0.9797\n"
     ]
    },
    {
     "data": {
      "text/plain": [
       "[0.06830728054046631, 0.979706883430481]"
      ]
     },
     "execution_count": 13,
     "metadata": {},
     "output_type": "execute_result"
    }
   ],
   "source": [
    "model.evaluate(x_test, y_test)"
   ]
  },
  {
   "cell_type": "markdown",
   "id": "56c671ca",
   "metadata": {},
   "source": [
    "## Model saving"
   ]
  },
  {
   "cell_type": "code",
   "execution_count": 14,
   "id": "f729abce",
   "metadata": {},
   "outputs": [],
   "source": [
    "model.save('model.h5')"
   ]
  }
 ],
 "metadata": {
  "kernelspec": {
   "display_name": "Python 3 (ipykernel)",
   "language": "python",
   "name": "python3"
  },
  "language_info": {
   "codemirror_mode": {
    "name": "ipython",
    "version": 3
   },
   "file_extension": ".py",
   "mimetype": "text/x-python",
   "name": "python",
   "nbconvert_exporter": "python",
   "pygments_lexer": "ipython3",
   "version": "3.10.10"
  }
 },
 "nbformat": 4,
 "nbformat_minor": 5
}
