{
 "cells": [
  {
   "cell_type": "markdown",
   "id": "e9108b5e",
   "metadata": {},
   "source": [
    "## Libraries import"
   ]
  },
  {
   "cell_type": "code",
   "execution_count": 2,
   "id": "3aaba658",
   "metadata": {},
   "outputs": [],
   "source": [
    "from tensorflow import keras\n",
    "from tensorflow.keras.layers import Dense, Flatten, Conv2D, MaxPooling2D\n",
    "import numpy as np\n",
    "import matplotlib.pyplot as plt\n",
    "import os\n",
    "import cv2\n",
    "import random\n",
    "os.environ['TF_CPP_MIN_LOG_LEVEL'] = '2'"
   ]
  },
  {
   "cell_type": "markdown",
   "id": "80d867ab",
   "metadata": {},
   "source": [
    "## Model import"
   ]
  },
  {
   "cell_type": "code",
   "execution_count": 4,
   "id": "84e6b0b7",
   "metadata": {},
   "outputs": [],
   "source": [
    "model = keras.models.load_model('model.h5')"
   ]
  },
  {
   "cell_type": "markdown",
   "id": "d4aec1a6",
   "metadata": {},
   "source": [
    "## Tkinter interface"
   ]
  },
  {
   "cell_type": "code",
   "execution_count": 6,
   "id": "c33d5a5d",
   "metadata": {},
   "outputs": [],
   "source": [
    "import tkinter as tk\n",
    "from PIL import Image\n",
    "import matplotlib.pyplot as plt\n",
    "import io\n",
    "import cv2\n",
    "import numpy as np\n",
    "\n",
    "\n",
    "answers = [ \"-\", \"!\", \"(\", \")\", \",\", \"[\", \"]\", \"{\", \"}\", \"+\", \"=\", \"0\", \"1\", \"2\", \"3\", \"4\", \"5\", \"6\", \"7\", \"8\", \"9\", \"A\", \"alpha\", \"ascii_124\", \"b\", \"beta\", \"C\", \"cos\", \"d\", \"Delta\", \"div\", \"e\", \"exists\", \"f\", \"forall\", \"forward_slash\", \"G\", \"gamma\", \"geq\", \"gt\", \"H\", \"i\", \"in\", \"infty\", \"int\", \"j\", \"k\", \"l\", \"lambda\", \"ldots\", \"leq\", \"lim\", \"log\", \"lt\", \"M\", \"mu\", \"N\", \"neq\", \"o\", \"p\", \"phi\", \"pi\", \"pm\", \"prime\", \"q\", \"R\", \"rightarrow\", \"S\", \"sigma\", \"sin\", \"sqrt\", \"sum\", \"T\", \"tan\", \"theta\", \"times\", \"u\", \"v\", \"w\", \"X\", \"y\", \"z\" ]\n",
    "sort_pred = []\n",
    "label_list = []\n",
    "pred = []\n",
    "\n",
    "def draw(event):\n",
    "    x1, y1 = (event.x - brush_size), (event.y - brush_size)\n",
    "    x2, y2 = (event.x + brush_size), (event.y + brush_size)\n",
    "    canvas.create_oval(x1, y1, x2, y2, fill='black', width=4)\n",
    "\n",
    "def clear_canvas():\n",
    "    canvas.delete('all')\n",
    "\n",
    "def predict_img():\n",
    "    im = Image.open(io.BytesIO(canvas.postscript(colormode = 'gray').encode('utf-8'))).convert('L')\n",
    "    im = cv2.resize(np.array(im), (45, 45))\n",
    "    for i in range(len(im)):\n",
    "        for j in range(len(im[i])):\n",
    "            if im[i][j] > 0:\n",
    "                im[i][j] = 255\n",
    "    plt.imshow(im, cmap='gray')\n",
    "    plt.show()\n",
    "    im = np.array(im).reshape(-1, 45, 45, 1)\n",
    "    im = im / 255.0\n",
    "    pred = model.predict(im)[0]\n",
    "    for i in range(len(pred)):\n",
    "        sort_pred.append([pred[i], i])\n",
    "    sort_pred.sort(reverse=True)\n",
    "    for i in range(4):\n",
    "        label_list[i]['text'] = 'С вероятностью %.4f%% вы ввели символ: %s\\nЕго обозначение на языке LaTeX: \\nСсылка на википедию: ' % (sort_pred[i][0] * 100, answers[sort_pred[i][1]])\n",
    "    sort_pred.clear()\n",
    "\n",
    "    \n",
    "x = 0\n",
    "y = 0\n",
    "brush_size = 3\n",
    "\n",
    "root = tk.Tk()\n",
    "root.title(\"Распознование математических символов\")\n",
    "root.geometry('900x550+300+150')\n",
    "root.resizable(0, 0)\n",
    "\n",
    "frame1 = tk.Frame(root)\n",
    "frame1.place(relx=0.01, rely=0.01, relwidth=0.49, relheight=0.99)\n",
    "\n",
    "frame2 = tk.Frame(root)\n",
    "frame2.place(relx=0.55, rely=0.06, relwidth=0.44, relheight=0.93)\n",
    "\n",
    "canvas = tk.Canvas(frame1, width=405, height=405, bg = 'white')\n",
    "canvas.grid(row=1, column=0)\n",
    "canvas.bind('<B1-Motion>', draw)\n",
    "\n",
    "tk.Label(frame1, text='Изобразите символ!').grid(row=0, column=0, pady=4)\n",
    "tk.Button(frame1, text='Очистить', command=clear_canvas).grid(row=2, column=0, stick='we', pady=6)\n",
    "tk.Button(frame1, text='Распознать', command=predict_img).grid(row=3, column=0, stick='we')\n",
    "\n",
    "output_info_1 = tk.Label(frame2, text='С вероятностью % вы ввели символ: \\nЕго обозначение на языке LaTeX: \\nСсылка на википедию: ', font=('Arial', 10), width=50, height=6, justify=tk.LEFT, anchor='w')\n",
    "output_info_1.grid(row=0, column=0)\n",
    "output_info_2 = tk.Label(frame2, text='С вероятностью % вы ввели символ: \\nЕго обозначение на языке LaTeX: \\nСсылка на википедию: ', font=('Arial', 10), width=50, height=6, justify=tk.LEFT, anchor='w')\n",
    "output_info_2.grid(row=1, column=0)\n",
    "output_info_3 = tk.Label(frame2, text='С вероятностью % вы ввели символ: \\nЕго обозначение на языке LaTeX: \\nСсылка на википедию: ', font=('Arial', 10), width=50, height=6, justify=tk.LEFT, anchor='w')\n",
    "output_info_3.grid(row=3, column=0)\n",
    "output_info_4 = tk.Label(frame2, text='С вероятностью % вы ввели символ: \\nЕго обозначение на языке LaTeX: \\nСсылка на википедию: ', font=('Arial', 10), width=50, height=6, justify=tk.LEFT, anchor='w')\n",
    "output_info_4.grid(row=4, column=0)\n",
    "label_list.append(output_info_1)\n",
    "label_list.append(output_info_2)\n",
    "label_list.append(output_info_3)\n",
    "label_list.append(output_info_4)\n",
    "\n",
    "root.mainloop()"
   ]
  }
 ],
 "metadata": {
  "kernelspec": {
   "display_name": "Python 3 (ipykernel)",
   "language": "python",
   "name": "python3"
  },
  "language_info": {
   "codemirror_mode": {
    "name": "ipython",
    "version": 3
   },
   "file_extension": ".py",
   "mimetype": "text/x-python",
   "name": "python",
   "nbconvert_exporter": "python",
   "pygments_lexer": "ipython3",
   "version": "3.10.10"
  }
 },
 "nbformat": 4,
 "nbformat_minor": 5
}
